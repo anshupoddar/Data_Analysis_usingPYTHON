{
 "cells": [
  {
   "cell_type": "code",
   "execution_count": 1,
   "id": "7b1b0633",
   "metadata": {},
   "outputs": [
    {
     "name": "stdout",
     "output_type": "stream",
     "text": [
      "Anshu\n",
      "Btech\n"
     ]
    }
   ],
   "source": [
    "dict={'name':'Anshu','designation':'Student','qual':'Btech','univ':'cmr'}\n",
    "print(dict['name'])\n",
    "   \n",
    "print(dict['qual'])"
   ]
  },
  {
   "cell_type": "code",
   "execution_count": 2,
   "id": "8a7d177d",
   "metadata": {},
   "outputs": [
    {
     "name": "stdout",
     "output_type": "stream",
     "text": [
      "anshu\n",
      "cse7sem\n"
     ]
    }
   ],
   "source": [
    "dict={'name':'anu','designation':'student','qual':'student','univ':'cmr'}\n",
    "dict['name']='anshu'\n",
    "    \n",
    "print(dict['name'])\n",
    "\n",
    "dict['class']='cse7sem'\n",
    "    \n",
    "print(dict['class'])"
   ]
  },
  {
   "cell_type": "code",
   "execution_count": 3,
   "id": "25974960",
   "metadata": {},
   "outputs": [
    {
     "name": "stdout",
     "output_type": "stream",
     "text": [
      "Student\n",
      "ANSHU\n"
     ]
    }
   ],
   "source": [
    "dict={'name':'ANSHU','designation':'Student','qual':'btech','univ':'cmr'}\n",
    "  \n",
    "print(dict['designation'])\n",
    "  \n",
    "#dict.clear()\n",
    "  \n",
    "print(dict['name'])\n",
    "    \n",
    "del dict"
   ]
  },
  {
   "cell_type": "code",
   "execution_count": 4,
   "id": "7a1c8fad",
   "metadata": {},
   "outputs": [
    {
     "name": "stdout",
     "output_type": "stream",
     "text": [
      "Ranjini\n",
      "4\n"
     ]
    }
   ],
   "source": [
    "dict = {\n",
    "  \"name\": \"Ansh\",\n",
    "  \"designation\": \"Student\",\n",
    "  \"qual\": \"btech\",\n",
    "  \"year\": 2021,\n",
    "  \"name\": \"Ranjini\",\n",
    "}\n",
    "print(dict['name'])\n",
    "print(len(dict))"
   ]
  },
  {
   "cell_type": "code",
   "execution_count": 5,
   "id": "fb5d9b93",
   "metadata": {},
   "outputs": [
    {
     "name": "stdout",
     "output_type": "stream",
     "text": [
      "dict_values(['Anshu', 'student', 'btech', 'cmr'])\n",
      "dict_items([('name', 'Anshu'), ('designation', 'student'), ('qual', 'btech'), ('univ', 'cmr')])\n",
      "dict_keys(['name', 'designation', 'qual', 'univ'])\n"
     ]
    }
   ],
   "source": [
    "dict={'name':'Ansh','designation':'student','qual':'btech','univ':'cmr', 'name':'Anshu'}\n",
    "    \n",
    "    \n",
    "print(dict.values())\n",
    "print(dict.items())\n",
    "  \n",
    "print(dict.keys())"
   ]
  },
  {
   "cell_type": "code",
   "execution_count": 6,
   "id": "f6002e9d",
   "metadata": {},
   "outputs": [
    {
     "name": "stdout",
     "output_type": "stream",
     "text": [
      "Anshu\n",
      "btech\n"
     ]
    }
   ],
   "source": [
    "dict={'name':'ansh','designation':'AsP','qual':'phd','univ':'cmr', 'name':'Anshu'}\n",
    "    \n",
    "print(dict['name'])\n",
    "    \n",
    "print(dict.get('edu',\"btech\"))"
   ]
  },
  {
   "cell_type": "code",
   "execution_count": 7,
   "id": "4387143f",
   "metadata": {},
   "outputs": [
    {
     "name": "stdout",
     "output_type": "stream",
     "text": [
      "Anshu\n",
      "4\n"
     ]
    }
   ],
   "source": [
    "dict={'name':'Ansh','designation':'AsP','qual':'phd','univ':'cmr', 'name':'Anshu'}\n",
    "  \n",
    "dict2=dict.copy()\n",
    "    \n",
    "print(dict2['name'])\n",
    "  \n",
    "print(len(dict2))"
   ]
  },
  {
   "cell_type": "code",
   "execution_count": 8,
   "id": "35903dcd",
   "metadata": {},
   "outputs": [
    {
     "name": "stdout",
     "output_type": "stream",
     "text": [
      "{'name': 'Anshu', 'designation': 'AsP', 'qual': 'phd', 'univ': 'cmr'}\n",
      "{'education': 'btech', 'branch': '7sem A'}\n",
      "{'name': 'Anshu', 'designation': 'AsP', 'qual': 'phd', 'univ': 'cmr', 'education': 'btech', 'branch': '7sem A'}\n"
     ]
    }
   ],
   "source": [
    "dict={'name':'Ansh','designation':'AsP','qual':'phd','univ':'cmr', 'name':'Anshu'}\n",
    "dict2={'education':'btech','branch':'7sem A'}\n",
    "print(dict)\n",
    "print(dict2)\n",
    "  \n",
    "dict.update(dict2)\n",
    "    \n",
    "print(dict)"
   ]
  },
  {
   "cell_type": "code",
   "execution_count": null,
   "id": "93786c00",
   "metadata": {},
   "outputs": [],
   "source": []
  }
 ],
 "metadata": {
  "kernelspec": {
   "display_name": "Python 3",
   "language": "python",
   "name": "python3"
  },
  "language_info": {
   "codemirror_mode": {
    "name": "ipython",
    "version": 3
   },
   "file_extension": ".py",
   "mimetype": "text/x-python",
   "name": "python",
   "nbconvert_exporter": "python",
   "pygments_lexer": "ipython3",
   "version": "3.8.8"
  }
 },
 "nbformat": 4,
 "nbformat_minor": 5
}
